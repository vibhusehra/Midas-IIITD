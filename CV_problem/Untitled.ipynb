{
 "cells": [
  {
   "cell_type": "code",
   "execution_count": 65,
   "metadata": {
    "collapsed": true
   },
   "outputs": [],
   "source": [
    "import pickle #for reading the given files\n",
    "import numpy as np \n",
    "import cv2 #to read images\n",
    "import matplotlib.pyplot as plt #to show images and graphs\n",
    "\n",
    "#importing for our model\n",
    "from keras.models import Sequential\n",
    "from keras.layers import Dense\n",
    "from keras.layers import Conv2D, Flatten,MaxPooling2D,Dropout,Activation\n",
    "import tensorflow as tf"
   ]
  },
  {
   "cell_type": "markdown",
   "metadata": {},
   "source": [
    "## Loading the data"
   ]
  },
  {
   "cell_type": "code",
   "execution_count": 13,
   "metadata": {
    "collapsed": true
   },
   "outputs": [],
   "source": [
    "with open('train_image.pkl', 'rb') as f:\n",
    "    train = pickle.load(f)\n",
    "with open('test_image.pkl', 'rb') as f:\n",
    "    test = pickle.load(f)\n",
    "with open('train_label.pkl', 'rb') as f:\n",
    "    train_labels = pickle.load(f)"
   ]
  },
  {
   "cell_type": "code",
   "execution_count": 84,
   "metadata": {
    "collapsed": true
   },
   "outputs": [],
   "source": [
    "#Converting to numpy nd array\n",
    "train_np = np.array(train)\n",
    "test_np = np.array(test)\n",
    "train_labels_np = np.array(train_labels)"
   ]
  },
  {
   "cell_type": "code",
   "execution_count": 85,
   "metadata": {},
   "outputs": [
    {
     "data": {
      "text/plain": [
       "((8000, 784), (2000, 784), (8000,))"
      ]
     },
     "execution_count": 85,
     "metadata": {},
     "output_type": "execute_result"
    }
   ],
   "source": [
    "train_np.shape,test_np.shape,train_labels_np.shape"
   ]
  },
  {
   "cell_type": "markdown",
   "metadata": {},
   "source": [
    "### reshaping the images in appropriate size (-1,28,28,1)"
   ]
  },
  {
   "cell_type": "code",
   "execution_count": 86,
   "metadata": {
    "collapsed": true
   },
   "outputs": [],
   "source": [
    "train_img = train_np.reshape(-1,28,28,1)\n",
    "test_img = test_np.reshape(-1,28,28,1)"
   ]
  },
  {
   "cell_type": "code",
   "execution_count": 87,
   "metadata": {},
   "outputs": [
    {
     "data": {
      "text/plain": [
       "{0, 2, 3, 6}"
      ]
     },
     "execution_count": 87,
     "metadata": {},
     "output_type": "execute_result"
    }
   ],
   "source": [
    "np.random.shuffle(train_labels_np)\n",
    "set(train_labels_np)\n",
    "#converting these labels to (0,1,2,3)"
   ]
  },
  {
   "cell_type": "code",
   "execution_count": 88,
   "metadata": {
    "collapsed": true
   },
   "outputs": [],
   "source": [
    "y_train = train_labels_np\n",
    "for i in range(len(y_train)):\n",
    "    if(y_train[i] == 0):\n",
    "        y_train[i] = 0\n",
    "    elif(y_train[i] == 2):\n",
    "        y_train[i] = 1\n",
    "    elif(y_train[i] == 3):\n",
    "        y_train[i] = 2\n",
    "    else:\n",
    "        y_train[i] = 3"
   ]
  },
  {
   "cell_type": "code",
   "execution_count": 91,
   "metadata": {},
   "outputs": [
    {
     "data": {
      "text/plain": [
       "array([[ 1.,  0.,  0.,  0.],\n",
       "       [ 0.,  0.,  0.,  1.],\n",
       "       [ 0.,  0.,  0.,  1.],\n",
       "       [ 0.,  1.,  0.,  0.],\n",
       "       [ 0.,  0.,  1.,  0.],\n",
       "       [ 0.,  1.,  0.,  0.],\n",
       "       [ 0.,  0.,  0.,  1.],\n",
       "       [ 1.,  0.,  0.,  0.],\n",
       "       [ 0.,  1.,  0.,  0.],\n",
       "       [ 0.,  0.,  0.,  1.],\n",
       "       [ 1.,  0.,  0.,  0.],\n",
       "       [ 0.,  1.,  0.,  0.],\n",
       "       [ 1.,  0.,  0.,  0.],\n",
       "       [ 0.,  0.,  0.,  1.],\n",
       "       [ 0.,  0.,  0.,  1.],\n",
       "       [ 0.,  1.,  0.,  0.],\n",
       "       [ 0.,  1.,  0.,  0.],\n",
       "       [ 0.,  0.,  1.,  0.],\n",
       "       [ 1.,  0.,  0.,  0.],\n",
       "       [ 0.,  0.,  0.,  1.],\n",
       "       [ 0.,  0.,  0.,  1.],\n",
       "       [ 0.,  1.,  0.,  0.],\n",
       "       [ 0.,  0.,  1.,  0.],\n",
       "       [ 1.,  0.,  0.,  0.],\n",
       "       [ 0.,  0.,  1.,  0.],\n",
       "       [ 0.,  0.,  0.,  1.],\n",
       "       [ 0.,  1.,  0.,  0.],\n",
       "       [ 1.,  0.,  0.,  0.],\n",
       "       [ 1.,  0.,  0.,  0.],\n",
       "       [ 0.,  0.,  1.,  0.],\n",
       "       [ 0.,  1.,  0.,  0.],\n",
       "       [ 1.,  0.,  0.,  0.],\n",
       "       [ 1.,  0.,  0.,  0.],\n",
       "       [ 0.,  0.,  0.,  1.],\n",
       "       [ 0.,  0.,  1.,  0.],\n",
       "       [ 0.,  1.,  0.,  0.],\n",
       "       [ 1.,  0.,  0.,  0.],\n",
       "       [ 0.,  0.,  1.,  0.],\n",
       "       [ 0.,  0.,  1.,  0.],\n",
       "       [ 0.,  0.,  1.,  0.],\n",
       "       [ 0.,  1.,  0.,  0.],\n",
       "       [ 1.,  0.,  0.,  0.],\n",
       "       [ 0.,  0.,  0.,  1.],\n",
       "       [ 0.,  0.,  1.,  0.],\n",
       "       [ 0.,  1.,  0.,  0.],\n",
       "       [ 1.,  0.,  0.,  0.],\n",
       "       [ 0.,  0.,  0.,  1.],\n",
       "       [ 0.,  0.,  1.,  0.],\n",
       "       [ 0.,  1.,  0.,  0.],\n",
       "       [ 1.,  0.,  0.,  0.],\n",
       "       [ 0.,  1.,  0.,  0.],\n",
       "       [ 0.,  0.,  0.,  1.],\n",
       "       [ 1.,  0.,  0.,  0.],\n",
       "       [ 1.,  0.,  0.,  0.],\n",
       "       [ 0.,  0.,  0.,  1.],\n",
       "       [ 0.,  0.,  1.,  0.],\n",
       "       [ 1.,  0.,  0.,  0.],\n",
       "       [ 1.,  0.,  0.,  0.],\n",
       "       [ 1.,  0.,  0.,  0.],\n",
       "       [ 0.,  0.,  0.,  1.],\n",
       "       [ 1.,  0.,  0.,  0.],\n",
       "       [ 0.,  0.,  0.,  1.],\n",
       "       [ 0.,  1.,  0.,  0.],\n",
       "       [ 1.,  0.,  0.,  0.],\n",
       "       [ 0.,  1.,  0.,  0.],\n",
       "       [ 0.,  1.,  0.,  0.],\n",
       "       [ 1.,  0.,  0.,  0.],\n",
       "       [ 1.,  0.,  0.,  0.],\n",
       "       [ 0.,  0.,  1.,  0.],\n",
       "       [ 0.,  0.,  1.,  0.],\n",
       "       [ 0.,  1.,  0.,  0.],\n",
       "       [ 0.,  1.,  0.,  0.],\n",
       "       [ 0.,  0.,  1.,  0.],\n",
       "       [ 0.,  1.,  0.,  0.],\n",
       "       [ 1.,  0.,  0.,  0.],\n",
       "       [ 0.,  0.,  0.,  1.],\n",
       "       [ 0.,  0.,  1.,  0.],\n",
       "       [ 0.,  1.,  0.,  0.],\n",
       "       [ 0.,  0.,  1.,  0.],\n",
       "       [ 1.,  0.,  0.,  0.],\n",
       "       [ 0.,  1.,  0.,  0.],\n",
       "       [ 0.,  0.,  1.,  0.],\n",
       "       [ 0.,  0.,  0.,  1.],\n",
       "       [ 0.,  1.,  0.,  0.],\n",
       "       [ 1.,  0.,  0.,  0.],\n",
       "       [ 0.,  0.,  0.,  1.],\n",
       "       [ 0.,  1.,  0.,  0.],\n",
       "       [ 0.,  0.,  0.,  1.],\n",
       "       [ 0.,  0.,  1.,  0.],\n",
       "       [ 0.,  0.,  0.,  1.],\n",
       "       [ 1.,  0.,  0.,  0.],\n",
       "       [ 0.,  0.,  0.,  1.],\n",
       "       [ 0.,  1.,  0.,  0.],\n",
       "       [ 1.,  0.,  0.,  0.],\n",
       "       [ 1.,  0.,  0.,  0.],\n",
       "       [ 1.,  0.,  0.,  0.],\n",
       "       [ 0.,  1.,  0.,  0.],\n",
       "       [ 1.,  0.,  0.,  0.],\n",
       "       [ 1.,  0.,  0.,  0.],\n",
       "       [ 1.,  0.,  0.,  0.]], dtype=float32)"
      ]
     },
     "execution_count": 91,
     "metadata": {},
     "output_type": "execute_result"
    }
   ],
   "source": [
    "y_train[:100]"
   ]
  },
  {
   "cell_type": "code",
   "execution_count": 90,
   "metadata": {},
   "outputs": [
    {
     "data": {
      "text/plain": [
       "(8000, 4)"
      ]
     },
     "execution_count": 90,
     "metadata": {},
     "output_type": "execute_result"
    }
   ],
   "source": [
    "#one-hot encoding the labels\n",
    "from keras.utils import to_categorical\n",
    "y_train = to_categorical(y_train)\n",
    "y_train.shape"
   ]
  },
  {
   "cell_type": "code",
   "execution_count": 92,
   "metadata": {},
   "outputs": [
    {
     "data": {
      "image/png": "[encoded data removed]",
      "text/plain": [
       "<matplotlib.figure.Figure at 0x22118892b00>"
      ]
     },
     "metadata": {},
     "output_type": "display_data"
    }
   ],
   "source": [
    "#checking image\n",
    "plt.imshow(train_np[0].reshape(28,28))\n",
    "plt.show()"
   ]
  },
  {
   "cell_type": "markdown",
   "metadata": {},
   "source": [
    "# Model\n",
    "\n",
    "## Library used to create model: Keras\n",
    "\n",
    "We are going to create a deep learning model. We are going to use **Convolutional Neural Network(CNN)** as they are highly effective on images and give excellent results on image classification\n",
    "\n",
    "## Our architecture: \n",
    "<ul><li> input image: 28x28x1 image</li></ul>\n",
    "<ol>\n",
    "<li>**Convolution layer**: filter: 3*3, units: 64, strides=1,padding: SAME (i.e image size remains same) </li>\n",
    "<ul><li> output of this layer: 28x28x64</li></ul><br/>\n",
    "<li>**Maxpool layer**: filter:2x2,strides=2</li>\n",
    "<ul><li> output of this layer: 14x14x64</li></ul><br/>\n",
    "<li>**Convolution layer**: filter: 3*3, units: 128, padding: SAME (i.e image size remains same)</li>\n",
    "<ul><li> output of this layer: 14x14x128</li></ul><br/>\n",
    "<li>**Maxpool layer**: filter:2x2,strides=2</li>\n",
    "<ul><li> output of this layer: 7x7x128</li></ul><br/>\n",
    "<li>**Dropout layer**: FOR REGULARIZATION(i.e prevent overfitting)</li>\n",
    "<li>**Flatten**: Now we flatten the array to pass it through the neural network</li>\n",
    "<ul><li> output of this layer: (1,6272)</li></ul><br/>\n",
    "<li>**Dense layer**: 1024 units, activation: relu</li>\n",
    "<li>**Output layer**: units: 4,activation: softmax</li>\n",
    "</ol>"
   ]
  },
  {
   "cell_type": "code",
   "execution_count": 97,
   "metadata": {
    "collapsed": true
   },
   "outputs": [],
   "source": [
    "#creating a model\n",
    "model = Sequential()"
   ]
  },
  {
   "cell_type": "code",
   "execution_count": 98,
   "metadata": {
    "collapsed": true
   },
   "outputs": [],
   "source": [
    "model.add(Conv2D(64,(3,3),padding='same',activation='relu',input_shape = (28,28,1)))\n",
    "model.add(MaxPooling2D(pool_size=(2,2),strides=None,padding='valid',data_format=None))\n",
    "model.add(Conv2D(128,(3,3),padding='same',activation='relu'))\n",
    "model.add(MaxPooling2D(pool_size=(2,2),strides=None,padding='valid',data_format=None))\n",
    "model.add(Dropout(0.2, noise_shape=None, seed=None))\n",
    "model.add(Flatten())\n",
    "model.add(Dense(1024,activation='relu'))\n",
    "model.add(Dense(4,activation=tf.nn.softmax))"
   ]
  },
  {
   "cell_type": "code",
   "execution_count": 99,
   "metadata": {
    "collapsed": true
   },
   "outputs": [],
   "source": [
    "model.compile(optimizer='adam', loss='categorical_crossentropy', metrics=['accuracy'])"
   ]
  },
  {
   "cell_type": "code",
   "execution_count": null,
   "metadata": {},
   "outputs": [
    {
     "name": "stdout",
     "output_type": "stream",
     "text": [
      "Epoch 1/50\n",
      "8000/8000 [==============================] - 47s 6ms/step - loss: 12.0717 - acc: 0.2505\n",
      "Epoch 2/50\n",
      "8000/8000 [==============================] - 46s 6ms/step - loss: 12.0886 - acc: 0.2500\n",
      "Epoch 3/50\n",
      "8000/8000 [==============================] - 50s 6ms/step - loss: 12.0886 - acc: 0.2500\n",
      "Epoch 4/50\n",
      "8000/8000 [==============================] - 49s 6ms/step - loss: 12.0886 - acc: 0.2500\n",
      "Epoch 5/50\n",
      "8000/8000 [==============================] - 48s 6ms/step - loss: 12.0886 - acc: 0.2500\n",
      "Epoch 6/50\n",
      "8000/8000 [==============================] - 48s 6ms/step - loss: 12.0886 - acc: 0.2500\n",
      "Epoch 7/50\n",
      "8000/8000 [==============================] - 49s 6ms/step - loss: 12.0886 - acc: 0.2500\n",
      "Epoch 8/50\n",
      "8000/8000 [==============================] - 50s 6ms/step - loss: 12.0886 - acc: 0.2500\n",
      "Epoch 9/50\n",
      "8000/8000 [==============================] - 48s 6ms/step - loss: 12.0886 - acc: 0.2500\n",
      "Epoch 10/50\n",
      "8000/8000 [==============================] - 49s 6ms/step - loss: 12.0886 - acc: 0.2500\n",
      "Epoch 11/50\n",
      "8000/8000 [==============================] - 49s 6ms/step - loss: 12.0886 - acc: 0.2500\n",
      "Epoch 12/50\n",
      "8000/8000 [==============================] - 49s 6ms/step - loss: 12.0886 - acc: 0.2500\n",
      "Epoch 13/50\n",
      "8000/8000 [==============================] - 49s 6ms/step - loss: 12.0886 - acc: 0.2500\n",
      "Epoch 14/50\n",
      "8000/8000 [==============================] - 50s 6ms/step - loss: 12.0886 - acc: 0.2500\n",
      "Epoch 15/50\n",
      "8000/8000 [==============================] - 48s 6ms/step - loss: 12.0886 - acc: 0.2500\n",
      "Epoch 16/50\n",
      "8000/8000 [==============================] - 46s 6ms/step - loss: 12.0886 - acc: 0.2500\n",
      "Epoch 17/50\n",
      "8000/8000 [==============================] - 45s 6ms/step - loss: 12.0886 - acc: 0.2500\n",
      "Epoch 18/50\n",
      "8000/8000 [==============================] - 47s 6ms/step - loss: 12.0886 - acc: 0.2500\n",
      "Epoch 19/50\n",
      "8000/8000 [==============================] - 49s 6ms/step - loss: 12.0886 - acc: 0.2500\n",
      "Epoch 20/50\n",
      "8000/8000 [==============================] - 49s 6ms/step - loss: 12.0886 - acc: 0.2500\n",
      "Epoch 21/50\n",
      "8000/8000 [==============================] - 49s 6ms/step - loss: 12.0886 - acc: 0.2500\n",
      "Epoch 22/50\n",
      "8000/8000 [==============================] - 49s 6ms/step - loss: 12.0886 - acc: 0.2500\n",
      "Epoch 23/50\n",
      "8000/8000 [==============================] - 49s 6ms/step - loss: 12.0886 - acc: 0.2500\n",
      "Epoch 24/50\n",
      "8000/8000 [==============================] - 49s 6ms/step - loss: 12.0886 - acc: 0.2500\n",
      "Epoch 25/50\n",
      "8000/8000 [==============================] - 49s 6ms/step - loss: 12.0886 - acc: 0.2500\n",
      "Epoch 26/50\n",
      "8000/8000 [==============================] - 49s 6ms/step - loss: 12.0886 - acc: 0.2500\n",
      "Epoch 27/50\n",
      "8000/8000 [==============================] - 47s 6ms/step - loss: 12.0886 - acc: 0.2500\n",
      "Epoch 28/50\n",
      "8000/8000 [==============================] - 47s 6ms/step - loss: 12.0886 - acc: 0.2500\n",
      "Epoch 29/50\n",
      "8000/8000 [==============================] - 46s 6ms/step - loss: 12.0886 - acc: 0.2500\n",
      "Epoch 30/50\n",
      "5120/8000 [==================>...........] - ETA: 16s - loss: 12.0728 - acc: 0.2510"
     ]
    }
   ],
   "source": [
    "#train the model\n",
    "model.fit(train_img, y_train, epochs=50)"
   ]
  }
 ],
 "metadata": {
  "kernelspec": {
   "display_name": "Python 3",
   "language": "python",
   "name": "python3"
  },
  "language_info": {
   "codemirror_mode": {
    "name": "ipython",
    "version": 3
   },
   "file_extension": ".py",
   "mimetype": "text/x-python",
   "name": "python",
   "nbconvert_exporter": "python",
   "pygments_lexer": "ipython3",
   "version": "3.5.4"
  }
 },
 "nbformat": 4,
 "nbformat_minor": 2
}
