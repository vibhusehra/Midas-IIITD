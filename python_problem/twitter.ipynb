{
 "cells": [
  {
   "cell_type": "markdown",
   "metadata": {},
   "source": [
    "# Initialization\n",
    "\n",
    "## Library used: Tweepy\n",
    "\n",
    "Here we are using the tweepy library that is going to be used to fetch the tweets in JSON format.\n",
    "\n",
    "In this step we are initializing. We enter the access tokens and the consumer tokens required to initialize."
   ]
  },
  {
   "cell_type": "code",
   "execution_count": 12,
   "metadata": {},
   "outputs": [],
   "source": [
    "# Import the necessary package to process data in JSON format\n",
    "try:\n",
    "    import json\n",
    "except ImportError:\n",
    "    import simplejson as json\n",
    "\n",
    "# importing tweepy library\n",
    "import tweepy\n",
    "\n",
    "# user credentials \n",
    "access_token = '1114528050496950272-rCdkHstWGfAbFOwEFcY6pF2oj2sLic'\n",
    "access_token_secret = '4zvKQ7Su6x4ghK6vUHWIE2bMuYz7pfvmsyMVOE9bWNlij'\n",
    "consumer_key = 'tOGtos28XlpZe6YOmzziNpfVU'\n",
    "consumer_secret = 'dY6FJbME12diU1541NT27YpIpPvF2B24i3SQS9fVVAXrfXNPWo'\n",
    "\n",
    "auth = tweepy.OAuthHandler(consumer_key, consumer_secret)\n",
    "auth.set_access_token(access_token, access_token_secret)\n",
    "api = tweepy.API(auth)"
   ]
  },
  {
   "cell_type": "markdown",
   "metadata": {},
   "source": [
    "### Testing the library\n",
    "\n",
    "Here the me() funciton returns information of the **<u> authenticated user</u>** like the user's name, their location and friends"
   ]
  },
  {
   "cell_type": "code",
   "execution_count": 13,
   "metadata": {},
   "outputs": [
    {
     "name": "stdout",
     "output_type": "stream",
     "text": [
      "Name: vibhu\n",
      "Location: \n",
      "Friends: 1\n"
     ]
    }
   ],
   "source": [
    "user = api.me()\n",
    " \n",
    "print('Name: ' + user.name)\n",
    "print('Location: ' + user.location)\n",
    "print('Friends: ' + str(user.friends_count))"
   ]
  },
  {
   "cell_type": "code",
   "execution_count": null,
   "metadata": {
    "collapsed": true
   },
   "outputs": [],
   "source": []
  },
  {
   "cell_type": "code",
   "execution_count": 22,
   "metadata": {},
   "outputs": [
    {
     "name": "stdout",
     "output_type": "stream",
     "text": [
      "We have emailed the task details to all candidates who have applied to @midasIIITD internship through IIITD portal.… https://t.co/gZwyr7D2Sw\n",
      "RT @rfpvjr: Our NAACL paper on polarization in language on Twitter surrounding mass shootings is up on arXiv! https://t.co/g7wiegXxDg\n",
      "This…\n",
      "RT @kdnuggets: Effective Transfer Learning For NLP https://t.co/Z1m0AzlfVv https://t.co/ccX4Uhxjn8\n",
      "RT @stanfordnlp: What’s new in @Stanford CS224N Natural Language Processing with Deep Learning for 2019? Question answering—1D CNNs—subword…\n",
      "RT @DeepMindAI: Today we're releasing a large-scale extendable dataset of mathematical questions, for training (and evaluating the abilitie…\n",
      "RT @ylecun: Congratulations Jitendra Malik !\n",
      "\n",
      "Awards are raining on FAIRies these days... https://t.co/1WNcSeQLZe\n",
      "RT @IIITDelhi: Another chance to take admission in the Ph.D. program in IIIT Delhi. \n",
      "Admissions open for Ph.D. program mathematics \n",
      "\n",
      "Log on…\n",
      "Dear @midasIIITD internship candidates who have submitted their solutions to the task, we have sent you an email re… https://t.co/4lCcAmwBKc\n",
      "Looking forward to your paper submission to @IEEEBigMM19. \n",
      "\n",
      "Important Dates:\n",
      "Regular Paper: 11:59pm PST, May 10, 20… https://t.co/ODYKLC8z0s\n",
      "RT @ngrams: Reproducibility in multimedia research in @sigmm records https://t.co/hOyMxtmy7A Plus reminder to past-year authors: Today 1 Ap…\n",
      "Online application for https://t.co/DJFDrQsHZP. Admission 2019 at @IIITDelhi has been open\n",
      "\n",
      "Log on to know more and… https://t.co/iqmGyRn1R0\n",
      "RT @ACMMM19: A final reminder of the Reproducibility Track: Authors of 2017 and 2018 papers are invited to submit a short reproducibility p…\n",
      "RT @isarth23: Thanks for the support and help @debanjanbhucs @RatnRajiv and @midasIIITD. It was a great learning experience! Glad to be par…\n",
      "Since SemEval-2019 will be held June 6-7, 2019 in Minneapolis, USA, collocated with NAACL-HLT 2019, it will great s… https://t.co/Jrl1uSesPc\n",
      "+@aggarwal_kartik.\n",
      "Congrats! Wish you many more success.\n",
      "RT @aggarwal_kartik: Our work (@midasIIITD ) accepted at SemEval 2019 at @NAACLHLT : \"MIDAS at SemEval-2019 Task 9: Suggestion Mining from…\n",
      "Congratulations! @midasIIITD team, @isarth23 @LaibaMehnaz @Simcyy @debanjanbhucs @RatnRajiv @the_dhumketu for getti… https://t.co/z8pT3ojhoP\n",
      "@EEMLcommunity @radamihalcea too many deadlines coming, @ACMMM19 @IEEEBigMM19 @EEMLcommunity\n",
      "RT @stanfordnlp: CS224N Natural Language Processing with Deep Learning 2019 @Stanford course videos by @chrmanning, @abigail_e_see &amp; guests…\n",
      "RT @ylecun: Learn PyTorch by running on Google GPUs for free. https://t.co/pt038TMnWR\n"
     ]
    }
   ],
   "source": [
    "tweets = api.user_timeline(screen_name=\"midasIIITD\")\n",
    "for info in tweets:\n",
    "    print(info.text)"
   ]
  }
 ],
 "metadata": {
  "kernelspec": {
   "display_name": "Python 3",
   "language": "python",
   "name": "python3"
  },
  "language_info": {
   "codemirror_mode": {
    "name": "ipython",
    "version": 3
   },
   "file_extension": ".py",
   "mimetype": "text/x-python",
   "name": "python",
   "nbconvert_exporter": "python",
   "pygments_lexer": "ipython3",
   "version": "3.5.4"
  }
 },
 "nbformat": 4,
 "nbformat_minor": 2
}
